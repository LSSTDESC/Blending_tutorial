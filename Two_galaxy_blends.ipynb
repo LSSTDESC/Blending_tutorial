{
 "cells": [
  {
   "cell_type": "markdown",
   "metadata": {},
   "source": [
    "Two galaxy blends are created and given to WLDEblending package. The Output can then be analyzed with DM stack to study how blending effects depend on the individual galaxy parameters "
   ]
  },
  {
   "cell_type": "markdown",
   "metadata": {},
   "source": [
    "## To Do!!\n",
    "#### Check variance array\n",
    "#### Add hsm\n",
    "#### Match centers of dm output to truth\n",
    "#### Check dm output for undtected objects & spurious detections\n",
    "#### Add option to run part 1 without dm\n",
    "#### get heavyfootprint image\n",
    "#### Add premade catalog of 2 galaxy blend +analysis\n",
    "#### put part 1 in a function\n",
    "#### add bounds on second galaxy parameters\n"
   ]
  },
  {
   "cell_type": "code",
   "execution_count": 1,
   "metadata": {},
   "outputs": [],
   "source": [
    "import numpy as np\n",
    "from astropy.table import Table\n",
    "%matplotlib inline\n",
    "import matplotlib.pyplot as plt\n",
    "import matplotlib.patches as mpatches\n",
    "import fitsio\n",
    "import sys\n",
    "sys.path.insert(0, 'WeakLensingDeblending/')\n",
    "import descwl\n",
    "import os\n",
    "from sklearn.neighbors import KDTree"
   ]
  },
  {
   "cell_type": "code",
   "execution_count": 2,
   "metadata": {},
   "outputs": [],
   "source": [
    "plt.rc('image', origin='lower',\n",
    "       interpolation='none')\n",
    "plt.rc('font', family='sans-serif')\n",
    "plt.rc('xtick.major', size=4, pad=7)\n",
    "plt.rc('xtick', labelsize=10)\n",
    "plt.rc('ytick.major', size=4, pad=7)\n",
    "plt.rc('ytick', labelsize=10)\n",
    "plt.rc('axes', titlesize=14)\n",
    "plt.rc('axes', labelsize=12)\n",
    "plt.rc('legend',**{'fontsize':12})\n",
    "plt.rc('savefig', bbox='tight')\n",
    "plt.rc('figure.subplot', wspace=0.3)\n",
    "plt.rc('figure.subplot', hspace=0.3)\n",
    "plt.rc('legend', fancybox=True, borderaxespad=0.)"
   ]
  },
  {
   "cell_type": "code",
   "execution_count": 3,
   "metadata": {},
   "outputs": [],
   "source": [
    "import scipy.spatial\n",
    "import scipy.ndimage"
   ]
  },
  {
   "cell_type": "code",
   "execution_count": 4,
   "metadata": {},
   "outputs": [],
   "source": [
    "import lsst.afw.table\n",
    "import lsst.afw.image\n",
    "import lsst.afw.math\n",
    "import lsst.meas.algorithms\n",
    "import lsst.meas.base\n",
    "import lsst.meas.deblender\n",
    "# import lsst.meas.extensions.shapeHSM\n",
    "# from lsst.sims.GalSimInterface.wcsUtils import tanSipWcsFromDetector\n",
    "# from lsst.sims.GalSimInterface import LSSTCameraWrapper\n",
    "# from lsst.sims.utils import ObservationMetaData\n",
    "schema = lsst.afw.table.SourceTable.makeMinimalSchema()\n",
    "config1 = lsst.meas.algorithms.SourceDetectionConfig()\n",
    "# Tweaks in the configuration to improve detection\n",
    "#####\n",
    "#config1.tempLocalBackground.binSize=8\n",
    "#config1.minPixels=1\n",
    "#config1.thresholdValue=12\n",
    "#####\n",
    "detect = lsst.meas.algorithms.SourceDetectionTask(schema=schema, config=config1)\n",
    "deblend = lsst.meas.deblender.SourceDeblendTask(schema=schema)\n",
    "config1 = lsst.meas.base.SingleFrameMeasurementConfig()\n",
    "## HSM is not included in the stack by default. You have to download it and activate it.\n",
    "#config1.plugins.names.add('ext_shapeHSM_HsmShapeBj')\n",
    "#config1.plugins.names.add('ext_shapeHSM_HsmShapeLinear')\n",
    "#config1.plugins.names.add('ext_shapeHSM_HsmShapeKsb')\n",
    "# config1.plugins.names.add('ext_shapeHSM_HsmShapeRegauss')\n",
    "#config1.plugins.names.add('ext_shapeHSM_HsmSourceMoments')\n",
    "# config1.plugins.names.add('ext_shapeHSM_HsmPsfMoments')\n",
    "measure = lsst.meas.base.SingleFrameMeasurementTask(schema=schema, config=config1)\n",
    "# camera_wrapper = LSSTCameraWrapper()\n",
    "# obs = ObservationMetaData(pointingRA=0, pointingDec=0,\n",
    "#                          boundType='circle', boundLength=2.0,\n",
    "#                          mjd=52000.0, rotSkyPos=0,\n",
    "#                          bandpassName='i')"
   ]
  },
  {
   "cell_type": "code",
   "execution_count": 5,
   "metadata": {},
   "outputs": [],
   "source": [
    "def get_hfpt(catalog, masked_image):\n",
    "    hfpt = []\n",
    "    for record in catalog:\n",
    "        fpt = record.getFootprint()\n",
    "        #fpt.normalize()\n",
    "        hfpt.append(lsst.afw.detection.makeHeavyFootprint(fpt, masked_image))\n",
    "    return hfpt\n",
    "def process(input_path, output_path=None,seed=123):\n",
    "    LSST_i = descwl.output.Reader(input_path).results # We read the image using descwl's package\n",
    "    LSST_i.add_noise(noise_seed=seed) # We add noise\n",
    "    image = lsst.afw.image.ImageF(LSST_i.survey.image.array) # We translate the image to be stack-readable\n",
    "    # CHECK THIS!!\n",
    "    variance_array = LSST_i.survey.image.array # We generate a variance array\n",
    "    variance = lsst.afw.image.ImageF(variance_array) # Generate the variance image\n",
    "    masked_image = lsst.afw.image.MaskedImageF(image, None, variance) # Generate a masked image, i.e., an image+mask+variance image (with mask=None)\n",
    "    psf_array = LSST_i.survey.psf_image.array # We read the PSF image from the package\n",
    "    psf_array = psf_array.astype(np.float64) \n",
    "    # psf_new = scipy.ndimage.zoom(psf_array,zoom=43/76.) # We have to rescale to match the stack's size\n",
    "    psf_new = scipy.ndimage.shift(psf_array, shift=0.5)[16:61,16:61]\n",
    "    im = lsst.afw.image.ImageD(psf_new) # Convert to stack's format\n",
    "    fkernel = lsst.afw.math.FixedKernel(im) \n",
    "    psf = lsst.meas.algorithms.KernelPsf(fkernel) # Create the kernel in the stack's format\n",
    "    exposure = lsst.afw.image.ExposureF(masked_image) # Passing the image to the stack\n",
    "    exposure.setPsf(psf) # Assign the exposure the PSF that we created\n",
    "    # wcs_in = tanSipWcsFromDetector('R:2,2 S:1,1',camera_wrapper,obs,2000) # We generate a WCS\n",
    "    # exposure.setWcs(wcs_in) # And assign it to the exposure\n",
    "    table = lsst.afw.table.SourceTable.make(schema)  # this is really just a factory for records, not a table\n",
    "    detect_result = detect.run(table, exposure) # We run the stack (the detection task)\n",
    "    catalog = detect_result.sources   # this is the actual catalog, but most of it's still empty\n",
    "    deblend.run(exposure, catalog) # run the deblending task\n",
    "    measure.run(catalog, exposure) # run the measuring task\n",
    "    catalog = catalog.copy(deep=True)\n",
    "    hfpt = get_hfpt(catalog, masked_image)\n",
    "    if output_path is not None:\n",
    "        catalog.writeFits(output_path) #write a copy of the catalog\n",
    "    return catalog, image.array #, hfpt # We return a catalog object"
   ]
  },
  {
   "cell_type": "code",
   "execution_count": 6,
   "metadata": {},
   "outputs": [],
   "source": [
    "import galsim\n",
    "import math\n",
    "def get_a_b(e, hlr):\n",
    "    \"\"\"Returns semimajor/minor axis from ellipticity and HLR\"\"\"\n",
    "    q = (1 - e) / (1. + e)\n",
    "    b = hlr\n",
    "    a = b / q\n",
    "    return a, b\n",
    "def get_g_from_e(e1 ,e2):\n",
    "    g = np.ones([len(e1),2]) * -10\n",
    "    for i in range(len(e1)):\n",
    "        sh = galsim.Shear(e1 = e1[i], e2=e2[i])\n",
    "        g[i] = [sh.g1, sh.g2]\n",
    "    return g\n",
    "\n",
    "def get_biased_g(g, bias):\n",
    "    return g + bias\n",
    "def get_ab_sigma(e, sigma):\n",
    "    q = (1. - e) / (1. + e)\n",
    "    b = sigma\n",
    "    a = b / q\n",
    "    return a, b\n",
    "def get_p_angle(e):\n",
    "    p = np.ones(len(e)) * -10\n",
    "    for i in range(len(e)):\n",
    "        p[i] = 2 * math.atan2(e[i][1], e[i][0]) \n",
    "    return p * 180./np.pi"
   ]
  },
  {
   "cell_type": "code",
   "execution_count": 7,
   "metadata": {},
   "outputs": [],
   "source": [
    "def display(cat1, cat2, cat3, name, dec=.2):\n",
    "    if dec is None:\n",
    "        print (\"{0:<19} {1} {2:>40} {3:>26}\".format(name, cat1[0], cat2[0], cat3[0]))\n",
    "    elif (dec == .2):\n",
    "        print (\"{0:<19} {1:.2f}, {2:<12.2f} {3:>26.2f} {4:>26.2f}\".format(name, cat1[0], cat1[1], cat2[0], cat3[0]))\n",
    "\n",
    "def get_sigma(xx,yy,xy):\n",
    "    \"\"\"Return defined as |Q|^0.25, where Q is the second momemt\"\"\"\n",
    "    return (xx * yy - xy**2)**0.25\n",
    "\n"
   ]
  },
  {
   "cell_type": "code",
   "execution_count": 8,
   "metadata": {},
   "outputs": [
    {
     "name": "stdout",
     "output_type": "stream",
     "text": [
      "usage: make_catalog.py [-h] [--flux_frac FLUX_FRAC] [--bhlr_frac BHLR_FRAC]\n",
      "                       [--dhlr_frac DHLR_FRAC] [--x0 X0] [--y0 Y0]\n",
      "                       [--p_angle P_ANGLE] [--b_e B_E] [--d_e D_E]\n",
      "\n",
      "optional arguments:\n",
      "  -h, --help            show this help message and exit\n",
      "  --flux_frac FLUX_FRAC\n",
      "                        Flux of second galaxy as a fraction of central galaxy\n",
      "                        flux [Default:1]\n",
      "  --bhlr_frac BHLR_FRAC\n",
      "                        HLR of second galaxy bulge as a fraction of central\n",
      "                        galaxy bulge HLR [Default:1]\n",
      "  --dhlr_frac DHLR_FRAC\n",
      "                        HLR of second galaxy disk as a fraction of central\n",
      "                        galaxy disk HLR [Default:1]\n",
      "  --x0 X0               x coordinate of center of second galaxy in pixels.\n",
      "                        Center of central galaxy is (0,0).[Default:10]\n",
      "  --y0 Y0               y coordinate of center of second galaxy in pixels.\n",
      "                        Center of central galaxy is (0,0). [Default:10]\n",
      "  --p_angle P_ANGLE     Position of center of second galaxy in degrees\n",
      "                        [Default:0]\n",
      "  --b_e B_E             Ellipticity (e) second galaxy bulge [Default:0.]\n",
      "  --d_e D_E             Ellipticity (e) second galaxy disk [Default:0.]\n"
     ]
    }
   ],
   "source": [
    "% run make_catalog.py --help\n"
   ]
  },
  {
   "cell_type": "code",
   "execution_count": 15,
   "metadata": {},
   "outputs": [
    {
     "data": {
      "text/plain": [
       "<matplotlib.figure.Figure at 0x2b9185740c50>"
      ]
     },
     "metadata": {},
     "output_type": "display_data"
    },
    {
     "data": {
      "image/png": "[encoded data removed]",
      "text/plain": [
       "<matplotlib.figure.Figure at 0x2b91885150b8>"
      ]
     },
     "metadata": {},
     "output_type": "display_data"
    },
    {
     "name": "stdout",
     "output_type": "stream",
     "text": [
      "Type                Blend1, Blend2                       Center galaxy only         Second galaxy only\n",
      "\n",
      "Truth\n",
      "\n",
      "Flux                354306.22, 265729.66                     354306.22                  265729.66\n",
      "\n",
      "WLDeblending Pacakage Output\n",
      "\n",
      "Purity              0.82, 0.72                               1.00                       1.00\n",
      "SNR_grp             54.40, 41.03                             54.45                      41.07\n",
      "\n",
      "DM stack output\n",
      "\n",
      "No of detections    2                                        1                          1\n",
      "Blendedness         0.33, 0.41                               0.00                       0.00\n",
      "Flux                291660.93, 287888.67                     327251.57                  250144.19\n"
     ]
    },
    {
     "data": {
      "image/png": "[encoded data removed]",
      "text/plain": [
       "<matplotlib.figure.Figure at 0x2b918826c518>"
      ]
     },
     "metadata": {},
     "output_type": "display_data"
    }
   ],
   "source": [
    "flux_frac = 0.75\n",
    "bhlr_frac, dhlr_frac = 1, 1\n",
    "x0, y0= 8, 5\n",
    "p_angle =0\n",
    "b_e, d_e = 0., 0.\n",
    "g1, g2 = 0.01, 0.01\n",
    "\n",
    "im_h, im_w = 125, 125\n",
    "band = 'i'\n",
    "exp = 5520\n",
    "in_all = 'data/gal_pair_catalog.fits'\n",
    "out_all = 'data/gal_pair_wldeb.fits'\n",
    "in1 = 'data/gal1_catalog.fits'\n",
    "in2 = 'data/gal2_catalog.fits'\n",
    "out1 = 'data/gal1_wldeb.fits'\n",
    "out2 = 'data/gal2_wldeb.fits'\n",
    "\n",
    "\n",
    "% run make_catalog.py --flux_frac $flux_frac --bhlr_frac $bhlr_frac --dhlr_frac $dhlr_frac \\\n",
    "                      --x0 $x0 --y0 $y0 --p_angle $p_angle --b_e $b_e --d_e $d_e\n",
    "\n",
    "%run WeakLensingDeblending/simulate.py --catalog-name $in_all --output-name $out_all \\\n",
    "    --image-width $im_w --image-height $im_h --no-stamps --filter-band $band --exposure-time $exp \\\n",
    "    --calculate-bias --cosmic-shear-g1 $g1 --cosmic-shear-g2 $g2\n",
    "%run WeakLensingDeblending/simulate.py --catalog-name $in1 --output-name $out1 \\\n",
    "    --image-width $im_w --image-height $im_h --no-stamps --filter-band $band --exposure-time $exp \\\n",
    "    --calculate-bias --cosmic-shear-g1 $g1 --cosmic-shear-g2 $g2\n",
    "%run WeakLensingDeblending/simulate.py --catalog-name $in2 --output-name $out2 \\\n",
    "    --image-width $im_w --image-height $im_h --no-stamps --filter-band $band --exposure-time $exp \\\n",
    "    --calculate-bias --cosmic-shear-g1 $g1 --cosmic-shear-g2 $g2\n",
    "\n",
    "xmin, xmax = 35, 90\n",
    "ymin, ymax = 35, 90\n",
    "cat1, im1 = process(out_all, 'data/gal_pair_dm.fits' )\n",
    "cat2, im2 = process(out1, 'data/gal1_dm.fits' )\n",
    "cat3, im3 = process(out2, 'data/gal2_dm.fits' )\n",
    "cat_all = cat1[cat1['deblend_nChild'] ==0]\n",
    "cat_wl = Table.read(out_all, format='fits')\n",
    "cat_wl1 = Table.read(out1, format='fits')\n",
    "cat_wl2 = Table.read(out2, format='fits')\n",
    "plt.figure(figsize=[16,12])\n",
    "plt.subplot(3, 3, 1)\n",
    "plt.imshow(im1[xmin:xmax, xmin:xmax],vmin=-10,vmax=im1.max()*0.8,origin='lower')\n",
    "plt.colorbar(label='Counts')\n",
    "plt.subplot(3, 3, 2)\n",
    "plt.imshow(im2[xmin:xmax, xmin:xmax],vmin=-10,vmax=im1.max()*0.8,origin='lower')\n",
    "plt.colorbar(label='Counts')\n",
    "plt.subplot(3, 3, 3)\n",
    "plt.imshow(im3[xmin:xmax, xmin:xmax],vmin=-10,vmax=im1.max()*0.8,origin='lower')\n",
    "plt.colorbar(label='Counts')\n",
    "plt.show()\n",
    "\n",
    "\n",
    "display([\"Blend1, Blend2\"], [\"Center galaxy only\"], [\"Second galaxy only\"], \"Type\", dec=None)\n",
    "print (\"\\nTruth\\n\")\n",
    "display(cat_wl['flux'], cat_wl1['flux'], cat_wl2['flux'], \"Flux\")\n",
    "print (\"\\nWLDeblending Pacakage Output\\n\")\n",
    "display(cat_wl['purity'], cat_wl1['purity'], cat_wl2['purity'], \"Purity\")\n",
    "display(cat_wl['snr_grp'], cat_wl1['snr_grp'], cat_wl2['snr_grp'], \"SNR_grp\")\n",
    "print ('\\nDM stack output\\n')\n",
    "display([len(cat_all),], [len(cat2),], [len(cat3),], \"No of detections\", dec=None)\n",
    "display(cat_all['base_Blendedness_old'], cat2['base_Blendedness_old'], cat3['base_Blendedness_old'], \"Blendedness\")\n",
    "display(cat_all['base_SdssShape_flux'], cat2['base_SdssShape_flux'], cat3['base_SdssShape_flux'], \"Flux\")\n",
    "\n",
    "\n",
    "g = get_g_from_e(cat_wl['e1'] ,cat_wl['e2'])\n",
    "g_new = get_biased_g(g , np.array([0,0]))\n",
    "g_new_mag = np.hypot(g_new.T[0], g_new.T[1])\n",
    "a_true, b_true =get_ab_sigma(g_new_mag, 0. +cat_wl['sigma_m'])\n",
    "p = get_p_angle(g_new)\n",
    "\n",
    "fig, ax = plt.subplots(1, 1)\n",
    "ax.imshow(im1[xmin:xmax, xmin:xmax],vmin=-10,vmax=im1.max()*0.8,origin='lower')\n",
    "e1 = mpatches.Ellipse(((xmax - xmin-1)/2., (ymax - ymin-1)/2.),\n",
    "                      a_true[0]/0.2, b_true[0]/0.2, p[0] ,\n",
    "                      edgecolor='red', facecolor='none')\n",
    "ax.add_patch(e1)\n",
    "e2 = mpatches.Ellipse(((xmax - xmin-1)/2. + x0, (ymax - ymin-1)/2. + y0),\n",
    "                      a_true[1]/0.2, b_true[1]/0.2, p[1] ,\n",
    "                      edgecolor='red', facecolor='none')\n",
    "ax.add_patch(e2)\n",
    "\n",
    "g = get_g_from_e(cat_wl['e1'] ,cat_wl['e2'])\n",
    "g_new = get_biased_g(g , np.array([cat_wl['bias_g1_grp'] ,cat_wl['bias_g2_grp']]))\n",
    "g_new_mag = np.hypot(g_new.T[0], g_new.T[1])\n",
    "a_true, b_true =get_ab_sigma(g_new_mag, cat_wl['bias_s_grp']  +cat_wl['sigma_m'])\n",
    "p = get_p_angle(g_new)\n",
    "\n",
    "e3 = mpatches.Ellipse(((xmax - xmin-1)/2.+ cat_wl['bias_x_grp'][0], (ymax - ymin-1)/2.+ cat_wl['bias_y_grp'][0]),\n",
    "                      a_true[0]/0.2, b_true[0]/0.2, p[0] ,\n",
    "                      edgecolor='blue', facecolor='none')\n",
    "ax.add_patch(e3)\n",
    "e4 = mpatches.Ellipse(((xmax - xmin-1)/2. +cat_wl['bias_x_grp'][1] + x0, (ymax - ymin-1)/2. + y0 + cat_wl['bias_y_grp'][1]) ,\n",
    "                      a_true[1]/0.2, b_true[1]/0.2, p[1] ,\n",
    "                      edgecolor='blue', facecolor='none')\n",
    "ax.add_patch(e4)\n",
    "\n",
    "plt.show()\n"
   ]
  },
  {
   "cell_type": "code",
   "execution_count": 15,
   "metadata": {},
   "outputs": [],
   "source": [
    "def get_hfpt(catalog, masked_image):\n",
    "    hfpt = []\n",
    "    for record in catalog:\n",
    "        fpt = record.getFootprint()\n",
    "        #fpt.normalize()\n",
    "        hfpt.append(lsst.afw.detection.makeHeavyFootprint(fpt, masked_image))\n",
    "    return hfpt"
   ]
  },
  {
   "cell_type": "code",
   "execution_count": 24,
   "metadata": {},
   "outputs": [],
   "source": [
    "lsst.afw.detection.makeHeavyFootprint?"
   ]
  },
  {
   "cell_type": "code",
   "execution_count": null,
   "metadata": {},
   "outputs": [],
   "source": []
  },
  {
   "cell_type": "code",
   "execution_count": 11,
   "metadata": {},
   "outputs": [],
   "source": [
    "from sklearn.neighbors import KDTree"
   ]
  },
  {
   "cell_type": "code",
   "execution_count": 12,
   "metadata": {},
   "outputs": [
    {
     "ename": "NameError",
     "evalue": "name 'dm_table' is not defined",
     "output_type": "error",
     "traceback": [
      "\u001b[0;31m---------------------------------------------------------------------------\u001b[0m",
      "\u001b[0;31mNameError\u001b[0m                                 Traceback (most recent call last)",
      "\u001b[0;32m<ipython-input-12-978c3d15adc7>\u001b[0m in \u001b[0;36m<module>\u001b[0;34m()\u001b[0m\n\u001b[1;32m     12\u001b[0m     \u001b[0;32mreturn\u001b[0m \u001b[0mdist\u001b[0m\u001b[0;34m.\u001b[0m\u001b[0mflatten\u001b[0m\u001b[0;34m(\u001b[0m\u001b[0;34m)\u001b[0m\u001b[0;34m,\u001b[0m\u001b[0mind\u001b[0m\u001b[0;34m.\u001b[0m\u001b[0mflatten\u001b[0m\u001b[0;34m(\u001b[0m\u001b[0;34m)\u001b[0m\u001b[0;34m\u001b[0m\u001b[0m\n\u001b[1;32m     13\u001b[0m \u001b[0;34m\u001b[0m\u001b[0m\n\u001b[0;32m---> 14\u001b[0;31m \u001b[0mdist\u001b[0m\u001b[0;34m,\u001b[0m \u001b[0mind\u001b[0m \u001b[0;34m=\u001b[0m \u001b[0mmatch\u001b[0m\u001b[0;34m(\u001b[0m\u001b[0mdm_table\u001b[0m\u001b[0;34m,\u001b[0m\u001b[0mtruth_table\u001b[0m\u001b[0;34m,\u001b[0m\u001b[0mwld_cat\u001b[0m\u001b[0;34m)\u001b[0m\u001b[0;34m\u001b[0m\u001b[0m\n\u001b[0m\u001b[1;32m     15\u001b[0m \u001b[0munique_ind\u001b[0m\u001b[0;34m,\u001b[0m \u001b[0mind_counts\u001b[0m \u001b[0;34m=\u001b[0m \u001b[0mnp\u001b[0m\u001b[0;34m.\u001b[0m\u001b[0munique\u001b[0m\u001b[0;34m(\u001b[0m\u001b[0mind\u001b[0m\u001b[0;34m,\u001b[0m\u001b[0mreturn_counts\u001b[0m\u001b[0;34m=\u001b[0m\u001b[0;32mTrue\u001b[0m\u001b[0;34m)\u001b[0m\u001b[0;34m\u001b[0m\u001b[0m\n",
      "\u001b[0;31mNameError\u001b[0m: name 'dm_table' is not defined"
     ]
    }
   ],
   "source": [
    "def match(catalog,truth,wld_cat):\n",
    "    width,height = wld_cat.survey.image_width,wld_cat.survey.image_height\n",
    "    X = np.zeros((len(catalog),2))  \n",
    "    X[:,0] = catalog['base_SdssCentroid_x']\n",
    "    X[:,1] = catalog['base_SdssCentroid_y']\n",
    "    X2 = np.zeros((truth.shape[0],2))\n",
    "    X2[:,0]=truth['dx']/wld_cat.survey.pixel_scale+0.5*width\n",
    "    X2[:,1]=truth['dy']/wld_cat.survey.pixel_scale+0.5*height\n",
    "    tree = KDTree(X2,metric='euclidean')\n",
    "    #Let's try to match to nearest neighbor for now\n",
    "    dist, ind = tree.query(X,k=1)\n",
    "    return dist.flatten(),ind.flatten()\n",
    "\n",
    "dist, ind = match(dm_table,truth_table,wld_cat)\n",
    "unique_ind, ind_counts = np.unique(ind,return_counts=True)\n"
   ]
  },
  {
   "cell_type": "code",
   "execution_count": null,
   "metadata": {},
   "outputs": [],
   "source": [
    "def get_primary_detection(tru_cat, det_cat,\n",
    "                          Args, tolerance=5):\n",
    "    x1, y1 = get_tru_cat_cent(tru_cat, Args)\n",
    "    z1_tree = spatial.KDTree(zip(x1, y1))\n",
    "    x2 = det_cat['base_GaussianCentroid_x']\n",
    "    y2 = det_cat['base_GaussianCentroid_y']\n",
    "    z2 = zip(x2, y2)\n",
    "    match = z1_tree.query(z2, distance_upper_bound=tolerance)\n",
    "    col = Column(np.ones(len(x2)) * -1, 'Primary_Detection',\n",
    "                 dtype='int')\n",
    "    det_cat.add_column(col)\n",
    "    col = Column(np.ones(len(x2)) * -1, 'Primary_Detection_gid',\n",
    "                 dtype='int')\n",
    "    det_cat.add_column(col)\n",
    "    col = Column(np.ones(len(x2)) * -1, 'Prim_Det_Dist')\n",
    "    det_cat.add_column(col)\n",
    "    col = Column(np.zeros(len(tru_cat)), 'Detected',\n",
    "                 dtype='int')\n",
    "    tru_cat.add_column(col)\n",
    "    col = Column(np.ones(len(tru_cat)) * -1, 'Primary_Detection',\n",
    "                 dtype='int')\n",
    "    tru_cat.add_column(col)\n",
    "    tru_prim = match[1][~np.isinf(match[0])]\n",
    "    dist_prim = match[0][~np.isinf(match[0])]\n",
    "    det_cat['Primary_Detection'][~np.isinf(match[0])] = tru_prim\n",
    "    det_cat['Primary_Detection_gid'][~np.isinf(match[0])] = tru_cat['grp_id'][tru_prim]\n",
    "    det_cat['Prim_Det_Dist'][~np.isinf(match[0])] = dist_prim\n",
    "    tru_cat['Detected'][tru_prim] = 1\n",
    "    tru_cat['Primary_Detection'][tru_prim] = range(len(det_cat))\n",
    "    print tru_cat['Primary_Detection']"
   ]
  }
 ],
 "metadata": {
  "kernelspec": {
   "display_name": "blend_tut",
   "language": "python",
   "name": "blend_tut"
  },
  "language_info": {
   "codemirror_mode": {
    "name": "ipython",
    "version": 3
   },
   "file_extension": ".py",
   "mimetype": "text/x-python",
   "name": "python",
   "nbconvert_exporter": "python",
   "pygments_lexer": "ipython3",
   "version": "3.6.2"
  }
 },
 "nbformat": 4,
 "nbformat_minor": 2
}
