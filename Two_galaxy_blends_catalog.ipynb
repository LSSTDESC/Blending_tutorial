{
 "cells": [
  {
   "cell_type": "markdown",
   "metadata": {},
   "source": [
    "# Part B: Analayze field of multiple 2 galaxy blends\n",
    "\n",
    "A catsim-like catalog with multiple two-galaxy blends with different orientations and extent of overlap was created previously. This was then provided as input to the [DESC Weak Lensing Deblending Package](http://weaklensingdeblending.readthedocs.io/en/latest/index.html) (hereafter WLD) and the ouput image analyzed with LSST DM science pipeline (v14.0).  The input and output is analyzed below."
   ]
  },
  {
   "cell_type": "code",
   "execution_count": null,
   "metadata": {
    "collapsed": false
   },
   "outputs": [],
   "source": [
    "import numpy as np\n",
    "from astropy.table import Table, Column\n",
    "from scipy import spatial\n",
    "%matplotlib inline\n",
    "import matplotlib.pyplot as plt\n",
    "import fitsio\n",
    "\n",
    "\n",
    "plt.rc('image', origin='lower',\n",
    "       interpolation='none')\n",
    "plt.rc('figure.subplot', wspace=0.3)\n",
    "plt.rc('figure.subplot', hspace=0.3)\n"
   ]
  },
  {
   "cell_type": "markdown",
   "metadata": {},
   "source": [
    "### Input Catalog Description:\n",
    "The catsim-like catalog was created to represent a 576 $\\times$ 2880 pixel field, as a combination of 720 postage stamps (each 48 $\\times$ 48 pixels). Each postage stamp consits of a two *identical* galaxies with different orientations and with different distance between them. The pair centers have the same y coordinate, thereby difference in centers is just the difference in x cordinate of the centers.\n",
    "For each galaxy pair, postage stamps are created for:\n",
    "1. Distance between pair centers are 2, 4 and 6 times the semimajor axis, or overlap extent of 1,2,3 respectively\n",
    "1. Major axis of the 2 galaxies are oriented at angles of 0, 45 and 90deg, or angle of approach of 0, 45 and 90deg respectively.\n",
    "\n",
    "For each blend pair from 1) and 2) both galaxies are also rotated by 0,45,90 and 135 degrees. \n",
    "Every distinct galaxy pair will have 3 rows of postage stamp; a specific angle of approach, on each row \n",
    "Each row of postage stamps has the 4 different rotations of the galaxies for each of the 3 extent of overlaps.\n",
    "Each distinct galaxy pair has 3 rows and 12 columns of postage stamps.\n",
    "\n",
    "20 galaxies were selected at random from the One square deg catsim catalog with i band magnitude $<$24 forming the distinct galaxy pairs."
   ]
  },
  {
   "cell_type": "markdown",
   "metadata": {},
   "source": [
    "add image of one distinct galaxy pair stamps"
   ]
  },
  {
   "cell_type": "code",
   "execution_count": null,
   "metadata": {
    "collapsed": true
   },
   "outputs": [],
   "source": [
    "data_dir = \"/global/projecta/projectdirs/lsst/groups/WL/projects/wl-btf/two_gal_blend_data/\" "
   ]
  },
  {
   "cell_type": "code",
   "execution_count": null,
   "metadata": {
    "collapsed": true
   },
   "outputs": [],
   "source": [
    "def get_match(tru_cat, det_cat,\n",
    "              im_shape, tolerance=5):\n",
    "    \"\"\"Returns index of true catalog that are the closest \n",
    "    match to the detected catalog centers within the tolerance\n",
    "    limit.\n",
    "    \"\"\"\n",
    "    z1 = np.zeros((len(tru_cat),2)) \n",
    "    z1[:,0] = np.array(tru_cat['dx']/0.2 + (im_shape[1]-1)/2.)\n",
    "    z1[:,1] = np.array(tru_cat['dy']/0.2 + (im_shape[0]-1)/2.)\n",
    "    z1_tree = spatial.KDTree(z1)\n",
    "    z2 = np.zeros((len(det_cat),2)) \n",
    "    z2[:,0] = det_cat['base_GaussianCentroid_x']\n",
    "    z2[:,1] = det_cat['base_GaussianCentroid_y']\n",
    "    match = z1_tree.query(z2, distance_upper_bound=tolerance)\n",
    "    return match\n",
    "\n",
    "def get_grp_size(cat, id_in):\n",
    "    \"\"\"Returns number of DM children connected to input source.\n",
    "    Computes sum of nuber of children of a source's parent and its parent\n",
    "    and henceforth till an isolated parent is reached\"\"\"\n",
    "    num = 0\n",
    "    row = cat[cat['id'] == id_in]\n",
    "    if row['parent'] == 0:\n",
    "        return 1\n",
    "    while (row['parent'] != 0):\n",
    "        new_id = int(row['parent'])\n",
    "        row = cat[cat['id'] == new_id]\n",
    "        num += int(row['deblend_nChild'])\n",
    "    return num\n",
    "\n",
    "dm_all = Table.read(data_dir + 'mock_gal_pairs_dm.fits',\n",
    "                    format= 'fits', hdu=1)\n",
    "purity = 1/(1 + dm_all['base_Blendedness_old'])\n",
    "col = Column(purity, name=\"purity\")\n",
    "dm_all.add_column(col)\n",
    "grp_size = np.zeros(len(dm_all))\n",
    "for i in range(len(dm_all)):\n",
    "    grp_size[i] = get_grp_size(dm_all, dm_all[\"id\"][i])\n",
    "col = Column(grp_size, name=\"grp_size\")\n",
    "dm_all.add_column(col)\n",
    "\n"
   ]
  },
  {
   "cell_type": "code",
   "execution_count": null,
   "metadata": {
    "collapsed": true
   },
   "outputs": [],
   "source": [
    "dm_out = dm_all[dm_all[\"deblend_nChild\"]==0]\n",
    "dm_image = fitsio.read(data_dir + 'mock_gal_pairs_dm_image.fits',ext=0)\n",
    "wl_out = Table.read(data_dir + 'mock_gal_pairs_wldeb.fits',\n",
    "                    format= 'fits', hdu=1)\n",
    "match = get_match(wl_out, dm_out,dm_image.shape)\n",
    "select_dm, = np.where((~np.isinf(match[0])) &(~np.isnan(dm_out[\"base_SdssShape_flux\"])))\n",
    "select_wldeb = match[1][select_dm]\n",
    "# match_dm = match[1][~np.isinf(match[0])]\n",
    "print (f\"Number of detected children is {len(dm_out)} out of {len(wl_out)} simulated galaxies\")\n",
    "print (f\"Number of true matched detections is {len(select_dm)}\")\n",
    "\n",
    "\n"
   ]
  },
  {
   "cell_type": "code",
   "execution_count": null,
   "metadata": {
    "collapsed": true
   },
   "outputs": [],
   "source": [
    "plt.figure(figsize=[14,10])\n",
    "plt.subplot(3,3,1)\n",
    "c=['r', 'g', 'b', 'y', 'k', 'm', 'b', 'y', 'k', 'm']\n",
    "plt.scatter(wl_out['purity'][select_wldeb],\n",
    "            dm_out['purity'][select_dm],\n",
    "            c=dm_out[\"grp_size\"][select_dm],\n",
    "            vmin=0, vmax=10, alpha=0.3, s=5)\n",
    "plt.plot([0.5,1], [0.5,1], 'k--')\n",
    "plt.ylabel(\"Purity from DM\")\n",
    "plt.xlabel(\"True purity\")\n",
    "plt.colorbar()\n",
    "plt.subplot(3,3,2)\n",
    "plt.scatter(wl_out['flux'][select_wldeb],\n",
    "            dm_out['base_SdssShape_flux'][select_dm],\n",
    "           c=dm_out[\"grp_size\"][select_dm],\n",
    "            vmin=0, vmax=10, alpha=0.3)\n",
    "plt.colorbar()\n",
    "plt.ylabel(\"Flux from DM\")\n",
    "plt.xlabel(\"True Flux \")\n",
    "lims = np.array([np.min(dm_out['base_SdssShape_flux'][select_dm]),\n",
    "        np.max(dm_out['base_SdssShape_flux'][select_dm])])\n",
    "plt.xlim(lims)\n",
    "plt.ylim(lims)\n",
    "plt.plot(lims, lims, 'k--')\n",
    "plt.plot(lims, 2*lims, 'r--')\n",
    "\n",
    "plt.subplot(3,3,3)\n",
    "plt.scatter(wl_out['grp_size'][select_wldeb],\n",
    "            dm_out['grp_size'][select_dm],\n",
    "            alpha=0.4)\n",
    "#plt.plot([0.5,1], [0.5,1], 'k--')\n",
    "plt.ylabel(\"grp_size from DM\")\n",
    "plt.xlabel(\"True grp_size\")\n",
    "\n"
   ]
  },
  {
   "cell_type": "code",
   "execution_count": null,
   "metadata": {
    "collapsed": true
   },
   "outputs": [],
   "source": [
    "d_flux = ( dm_out['base_SdssShape_flux'][select_dm] - wl_out['flux'][select_wldeb]) / wl_out['flux'][select_wldeb]\n",
    "plt.scatter(d_flux, wl_out['purity'][select_wldeb]\n",
    "            c=dm_out[\"grp_size\"][select_dm],\n",
    "            vmin=0, vmax=10, alpha=0.3)\n",
    "plt.colorbar()\n",
    "plt.ylabel(\"(Flux from DM - True Flux)/ True Flux\")\n",
    "plt.xlabel(\"True Purity \")"
   ]
  },
  {
   "cell_type": "markdown",
   "metadata": {},
   "source": [
    "## Exercise:\n",
    "Q) Plot relation between purity and snr"
   ]
  },
  {
   "cell_type": "markdown",
   "metadata": {},
   "source": [
    "Q) Plot histograms of shift in centroid estimated by DM?"
   ]
  },
  {
   "cell_type": "markdown",
   "metadata": {},
   "source": [
    "Q) DM has other blendedness parameters. How do they compare to purity?"
   ]
  },
  {
   "cell_type": "markdown",
   "metadata": {},
   "source": [
    "Q) Compare true purity of detected objects and undetected objects?"
   ]
  },
  {
   "cell_type": "code",
   "execution_count": null,
   "metadata": {
    "collapsed": true
   },
   "outputs": [],
   "source": []
  },
  {
   "cell_type": "code",
   "execution_count": null,
   "metadata": {
    "collapsed": true
   },
   "outputs": [],
   "source": []
  },
  {
   "cell_type": "code",
   "execution_count": null,
   "metadata": {
    "collapsed": true
   },
   "outputs": [],
   "source": []
  }
 ],
 "metadata": {
  "kernelspec": {
   "display_name": "Python 2",
   "language": "python",
   "name": "python2"
  },
  "language_info": {
   "codemirror_mode": {
    "name": "ipython",
    "version": 2
   },
   "file_extension": ".py",
   "mimetype": "text/x-python",
   "name": "python",
   "nbconvert_exporter": "python",
   "pygments_lexer": "ipython2",
   "version": "2.7.12"
  }
 },
 "nbformat": 4,
 "nbformat_minor": 0
}
