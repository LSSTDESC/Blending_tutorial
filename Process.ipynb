{
 "cells": [
  {
   "cell_type": "code",
   "execution_count": null,
   "metadata": {},
   "outputs": [],
   "source": [
    "import lsst.afw.table\n",
    "import lsst.afw.image\n",
    "import lsst.afw.math\n",
    "import lsst.meas.algorithms\n",
    "import lsst.meas.base\n",
    "import lsst.meas.deblender\n",
    "import numpy as np\n",
    "import astropy.io.fits as fits\n",
    "import matplotlib.pyplot as plt\n",
    "import descwl\n",
    "%matplotlib inline\n",
    "import astropy.table\n",
    "import scipy.spatial\n",
    "import scipy.ndimage\n",
    "from lsst.sims.GalSimInterface.wcsUtils import tanSipWcsFromDetector\n",
    "from lsst.sims.GalSimInterface import LSSTCameraWrapper\n",
    "from lsst.sims.utils import ObservationMetaData\n",
    "schema = lsst.afw.table.SourceTable.makeMinimalSchema()\n",
    "config1 = lsst.meas.algorithms.SourceDetectionConfig()\n",
    "config1.tempLocalBackground.binSize=8\n",
    "config1.minPixels=1\n",
    "config1.thresholdValue=12\n",
    "detect = lsst.meas.algorithms.SourceDetectionTask(schema=schema, config=config1)\n",
    "deblend = lsst.meas.deblender.SourceDeblendTask(schema=schema)\n",
    "config1 = lsst.meas.base.SingleFrameMeasurementConfig()\n",
    "## We can uncomment this once we add the HSM extension to the common stack install\n",
    "#config1.plugins.names.add('ext_shapeHSM_HsmShapeBj')\n",
    "#config1.plugins.names.add('ext_shapeHSM_HsmShapeLinear')\n",
    "#config1.plugins.names.add('ext_shapeHSM_HsmShapeKsb')\n",
    "#config1.plugins.names.add('ext_shapeHSM_HsmShapeRegauss')\n",
    "#config1.plugins.names.add('ext_shapeHSM_HsmSourceMoments')\n",
    "#config1.plugins.names.add('ext_shapeHSM_HsmPsfMoments')\n",
    "measure = lsst.meas.base.SingleFrameMeasurementTask(schema=schema, config=config1)\n",
    "camera_wrapper = LSSTCameraWrapper()\n",
    "obs = ObservationMetaData(pointingRA=0, pointingDec=0,\n",
    "                          boundType='circle', boundLength=2.0,\n",
    "                          mjd=52000.0, rotSkyPos=0,\n",
    "                          bandpassName='i')"
   ]
  },
  {
   "cell_type": "code",
   "execution_count": null,
   "metadata": {},
   "outputs": [],
   "source": [
    "def process(input_path, output_path=None,seed=123):\n",
    "    LSST_i = descwl.output.Reader(input_path).results\n",
    "    LSST_i.add_noise(noise_seed=seed)\n",
    "    image = lsst.afw.image.ImageF(LSST_i.survey.image.array)\n",
    "    variance_array = np.sqrt(LSST_i.survey.image.array)\n",
    "    variance = lsst.afw.image.ImageF(variance_array)\n",
    "    masked_image = lsst.afw.image.MaskedImageF(image, None, variance)\n",
    "    psf_array = LSST_i.survey.psf_image.array\n",
    "    psf_array = psf_array.astype(np.float64)\n",
    "    psf_new = scipy.ndimage.zoom(psf_array,zoom=43/76.)\n",
    "    im = lsst.afw.image.ImageD(psf_new)\n",
    "    fkernel = lsst.afw.math.FixedKernel(im)\n",
    "    psf = lsst.meas.algorithms.KernelPsf(fkernel)\n",
    "    exposure = lsst.afw.image.ExposureF(masked_image)\n",
    "    exposure.setPsf(psf)\n",
    "    wcs_in = tanSipWcsFromDetector('R:2,2 S:1,1',camera_wrapper,obs,2000)\n",
    "    #wcs = lsst.afw.image.Wcs(crval,crpix,cd)\n",
    "    exposure.setWcs(wcs_in)\n",
    "    table = lsst.afw.table.SourceTable.make(schema)  # this is really just a factory for records, not a table\n",
    "    detect_result = detect.run(table, exposure)\n",
    "    catalog = detect_result.sources   # this is the actual catalog, but most of it's still empty\n",
    "    deblend.run(exposure, catalog)\n",
    "    measure.run(catalog, exposure)\n",
    "    catalog = catalog.copy(deep=True)\n",
    "    if output_path is not None:\n",
    "        catalog.writeFits(output_path)\n",
    "    return catalog"
   ]
  },
  {
   "cell_type": "code",
   "execution_count": null,
   "metadata": {
    "scrolled": true
   },
   "outputs": [],
   "source": [
    "catalog = process('LSST_i.fits')"
   ]
  },
  {
   "cell_type": "code",
   "execution_count": null,
   "metadata": {},
   "outputs": [],
   "source": [
    "catalog.schema"
   ]
  }
 ],
 "metadata": {
  "kernelspec": {
   "display_name": "lsst2",
   "language": "python",
   "name": "lsst2"
  },
  "language_info": {
   "codemirror_mode": {
    "name": "ipython",
    "version": 3
   },
   "file_extension": ".py",
   "mimetype": "text/x-python",
   "name": "python",
   "nbconvert_exporter": "python",
   "pygments_lexer": "ipython3",
   "version": "3.6.2"
  }
 },
 "nbformat": 4,
 "nbformat_minor": 2
}
